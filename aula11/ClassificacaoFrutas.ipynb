{
 "cells": [
  {
   "cell_type": "code",
   "execution_count": 4,
   "metadata": {},
   "outputs": [
    {
     "name": "stdout",
     "output_type": "stream",
     "text": [
      "1 2 2\n"
     ]
    },
    {
     "ename": "StatisticsError",
     "evalue": "no unique mode; found 2 equally common values",
     "output_type": "error",
     "traceback": [
      "\u001b[0;31m---------------------------------------------------------------------------\u001b[0m",
      "\u001b[0;31mStatisticsError\u001b[0m                           Traceback (most recent call last)",
      "\u001b[0;32m<ipython-input-4-f8dd797345a0>\u001b[0m in \u001b[0;36m<module>\u001b[0;34m\u001b[0m\n\u001b[1;32m     86\u001b[0m \u001b[0mprint\u001b[0m\u001b[0;34m(\u001b[0m\u001b[0mk1\u001b[0m\u001b[0;34m,\u001b[0m \u001b[0mk2\u001b[0m\u001b[0;34m,\u001b[0m \u001b[0mk3\u001b[0m\u001b[0;34m)\u001b[0m\u001b[0;34m\u001b[0m\u001b[0m\n\u001b[1;32m     87\u001b[0m \u001b[0;34m\u001b[0m\u001b[0m\n\u001b[0;32m---> 88\u001b[0;31m \u001b[0ma\u001b[0m \u001b[0;34m=\u001b[0m \u001b[0mmode\u001b[0m\u001b[0;34m(\u001b[0m\u001b[0;34m[\u001b[0m\u001b[0mk1\u001b[0m\u001b[0;34m,\u001b[0m\u001b[0mk2\u001b[0m\u001b[0;34m,\u001b[0m\u001b[0mk3\u001b[0m\u001b[0;34m,\u001b[0m \u001b[0mk1\u001b[0m\u001b[0;34m]\u001b[0m\u001b[0;34m)\u001b[0m\u001b[0;34m\u001b[0m\u001b[0m\n\u001b[0m\u001b[1;32m     89\u001b[0m \u001b[0mprint\u001b[0m\u001b[0;34m(\u001b[0m\u001b[0;34m\"classe final: \"\u001b[0m\u001b[0;34m,\u001b[0m \u001b[0ma\u001b[0m\u001b[0;34m)\u001b[0m\u001b[0;34m\u001b[0m\u001b[0m\n",
      "\u001b[0;32m/usr/local/lib/python3.7/statistics.py\u001b[0m in \u001b[0;36mmode\u001b[0;34m(data)\u001b[0m\n\u001b[1;32m    504\u001b[0m     \u001b[0;32melif\u001b[0m \u001b[0mtable\u001b[0m\u001b[0;34m:\u001b[0m\u001b[0;34m\u001b[0m\u001b[0m\n\u001b[1;32m    505\u001b[0m         raise StatisticsError(\n\u001b[0;32m--> 506\u001b[0;31m                 \u001b[0;34m'no unique mode; found %d equally common values'\u001b[0m \u001b[0;34m%\u001b[0m \u001b[0mlen\u001b[0m\u001b[0;34m(\u001b[0m\u001b[0mtable\u001b[0m\u001b[0;34m)\u001b[0m\u001b[0;34m\u001b[0m\u001b[0m\n\u001b[0m\u001b[1;32m    507\u001b[0m                 )\n\u001b[1;32m    508\u001b[0m     \u001b[0;32melse\u001b[0m\u001b[0;34m:\u001b[0m\u001b[0;34m\u001b[0m\u001b[0m\n",
      "\u001b[0;31mStatisticsError\u001b[0m: no unique mode; found 2 equally common values"
     ]
    }
   ],
   "source": [
    "import cv2\n",
    "import numpy as np\n",
    "import matplotlib.pyplot as plt\n",
    "import os\n",
    "from statistics import mode\n",
    "\n",
    "def distancia(a, b):\n",
    "    M = len(a)\n",
    "    soma = 0\n",
    "    for i in range(M):\n",
    "        soma = soma + ((a[i]-b[i])**2)\n",
    "    return np.sqrt(soma) \n",
    "\n",
    "def extrair_caracteristica(img):\n",
    "    \n",
    "    # Calculando histograma de pixels que têm as cores do RGB predominantes\n",
    "    qtVerde = 0\n",
    "    qtAzul = 0\n",
    "    qtVermelho = 0\n",
    "    \n",
    "    qtLinhas, qtColunas, c = img.shape\n",
    "    \n",
    "    for i in range(qtLinhas):\n",
    "        for j in range(qtColunas):\n",
    "            if(img[i,j,1] > img[i,j,0] and img[i,j,1] > img[i,j,2]):\n",
    "                qtVerde += 1\n",
    "                \n",
    "            elif(img[i,j,2] > img[i,j,0] and img[i,j,2] > img[i,j,1]):\n",
    "                qtVermelho += 1\n",
    "            \n",
    "            elif(img[i,j,0] > img[i,j,1] and img[i,j,0] > img[i,j,2]):\n",
    "                qtAzul += 1\n",
    "    \n",
    "    # Normalizando\n",
    "    qtVerdeNormal = qtVerde/(qtVerde+qtAzul+qtVermelho)\n",
    "    qtAzulNormal = qtAzul/(qtVerde+qtAzul+qtVermelho)\n",
    "    qtVermelhoNormal = qtVermelho/(qtVerde+qtAzul+qtVermelho)\n",
    "    \n",
    "    histFinal = np.append(np.append(qtVerdeNormal, qtAzulNormal),qtVermelhoNormal)\n",
    "    return histFinal\n",
    "        \n",
    "    # Calculando o histograma de pixels em que o valor dos canais estão entre 240 e 250\n",
    "#     histB = cv2.calcHist([img],[0],None,[10],[240,250])\n",
    "#     histG = cv2.calcHist([img],[1],None,[10],[240,250])\n",
    "#     histR = cv2.calcHist([img],[2],None,[10],[240,250])\n",
    "\n",
    "#     cv2.normalize(histB, histB)\n",
    "#     cv2.normalize(histG, histG)\n",
    "#     cv2.normalize(histR, histR)\n",
    "\n",
    "#     histFinal = np.append(np.append(histB, histG),histR)\n",
    "#     return histFinal\n",
    "    \n",
    "\n",
    "files_path = [os.path.abspath(x) for x in os.listdir('./') if x.endswith('.jpg')]\n",
    "\n",
    "base_teste = []\n",
    "\n",
    "#extraindo as características das imagens na base de dados\n",
    "for i in files_path:\n",
    "    diretorio, arquivo = os.path.split(i)\n",
    "    imagem = cv2.imread(arquivo)\n",
    "    carac = extrair_caracteristica(imagem)\n",
    "    classe = arquivo.split('-')\n",
    "    base_teste.append((carac, classe[0]))   \n",
    "    \n",
    "    \n",
    "img = cv2.imread('1-1.jpg')\n",
    "vetor_consulta = extrair_caracteristica(img)    \n",
    "    \n",
    "#calculando a distancia do vetor de características da imagem consulta com todos\n",
    "# os vetores de características extraidos das imagens que estão na base de dados\n",
    "d = []\n",
    "\n",
    "for feat in base_teste:\n",
    "    vetor = feat[0]\n",
    "    dist = distancia(vetor, vetor_consulta)\n",
    "    d.append((dist, feat[1])) \n",
    "    \n",
    "e = sorted(d)\n",
    "\n",
    "k1 = e[0][1]\n",
    "k2 = e[1][1]\n",
    "k3 = e[2][1]\n",
    "k4 = e[3][1]\n",
    "print(k1, k2, k3)\n",
    "\n",
    "a = mode([k1,k2,k3, k1])\n",
    "print(\"classe final: \", a)"
   ]
  },
  {
   "cell_type": "code",
   "execution_count": null,
   "metadata": {},
   "outputs": [],
   "source": []
  }
 ],
 "metadata": {
  "kernelspec": {
   "display_name": "Python 3",
   "language": "python",
   "name": "python3"
  },
  "language_info": {
   "codemirror_mode": {
    "name": "ipython",
    "version": 3
   },
   "file_extension": ".py",
   "mimetype": "text/x-python",
   "name": "python",
   "nbconvert_exporter": "python",
   "pygments_lexer": "ipython3",
   "version": "3.7.0"
  }
 },
 "nbformat": 4,
 "nbformat_minor": 2
}
