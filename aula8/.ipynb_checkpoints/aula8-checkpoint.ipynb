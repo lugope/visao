{
 "cells": [
  {
   "cell_type": "markdown",
   "metadata": {},
   "source": [
    "## Extração de características\n",
    "### Invertendo imagens"
   ]
  },
  {
   "cell_type": "code",
   "execution_count": 10,
   "metadata": {},
   "outputs": [
    {
     "name": "stdout",
     "output_type": "stream",
     "text": [
      "['/app/aula8/Beach1.jpg', '/app/aula8/Beach1_inv.jpg', '/app/aula8/Beach2.jpg', '/app/aula8/Beach2_inv.jpg', '/app/aula8/Beach3.jpg', '/app/aula8/Beach3_inv.jpg', '/app/aula8/Buildings1.jpg', '/app/aula8/Buildings1_inv.jpg', '/app/aula8/Buildings2.jpg', '/app/aula8/Buildings2_inv.jpg', '/app/aula8/Buildings3.jpg', '/app/aula8/Buildings3_inv.jpg', '/app/aula8/Buses10.jpg', '/app/aula8/Buses10_inv.jpg', '/app/aula8/Buses3.jpg', '/app/aula8/Buses3_inv.jpg', '/app/aula8/Buses9.jpg', '/app/aula8/Buses9_inv.jpg', '/app/aula8/Flowers1.jpg', '/app/aula8/Flowers1_inv.jpg', '/app/aula8/Flowers2.jpg', '/app/aula8/Flowers2_inv.jpg', '/app/aula8/Flowers4.jpg', '/app/aula8/Flowers4_inv.jpg', '/app/aula8/Horses14.jpg', '/app/aula8/Horses14_inv.jpg', '/app/aula8/Horses15.jpg', '/app/aula8/Horses15_inv.jpg', '/app/aula8/Horses16.jpg', '/app/aula8/Horses16_inv.jpg', '/app/aula8/Mountains52.jpg', '/app/aula8/Mountains52_inv.jpg', '/app/aula8/Mountains53.jpg', '/app/aula8/Mountains53_inv.jpg', '/app/aula8/Mountains54.jpg', '/app/aula8/Mountains54_inv.jpg']\n"
     ]
    }
   ],
   "source": [
    "import os\n",
    "import cv2\n",
    "import numpy as np\n",
    "import matplotlib.pyplot as plt\n",
    "\n",
    "# Vetor com o nome de todos os arquivos que terminam com '.jpg'\n",
    "files_path = [os.path.abspath(x) for x in os.listdir('./') if x.endswith('.jpg')]\n",
    "print(files_path)"
   ]
  },
  {
   "cell_type": "code",
   "execution_count": 11,
   "metadata": {},
   "outputs": [
    {
     "name": "stdout",
     "output_type": "stream",
     "text": [
      "Beach1.jpg\n"
     ]
    }
   ],
   "source": [
    "diretorio, arquivo = path, filename = os.path.split(files_path[0])\n",
    "print(arquivo)"
   ]
  },
  {
   "cell_type": "code",
   "execution_count": 3,
   "metadata": {},
   "outputs": [
    {
     "name": "stdout",
     "output_type": "stream",
     "text": [
      "Beach1.jpg\n",
      "Beach2.jpg\n",
      "Beach3.jpg\n",
      "Buildings1.jpg\n",
      "Buildings2.jpg\n",
      "Buildings3.jpg\n",
      "Buses10.jpg\n",
      "Buses3.jpg\n",
      "Buses9.jpg\n",
      "Flowers1.jpg\n",
      "Flowers2.jpg\n",
      "Flowers4.jpg\n",
      "Horses14.jpg\n",
      "Horses15.jpg\n",
      "Horses16.jpg\n",
      "Mountains52.jpg\n",
      "Mountains53.jpg\n",
      "Mountains54.jpg\n"
     ]
    }
   ],
   "source": [
    "# Salva novas imagens invertidas com o nome adicionado com '_inv'\n",
    "for i in files_path:\n",
    "    diretorio, arquivo = path, filename = os.path.split(i)\n",
    "    print(arquivo)\n",
    "    imagem = cv2.imread(arquivo)\n",
    "    a = arquivo.split('.')\n",
    "    imagemEspelhada = imagem[::-1,:,:]\n",
    "    cv2.imwrite(a[0]+'_inv.jpg', imagemEspelhada)\n",
    "             \n",
    "# plt.imshow(imagem)\n",
    "# plt.show()\n",
    "# plt.imshow(imagemInvertida)\n"
   ]
  },
  {
   "cell_type": "markdown",
   "metadata": {},
   "source": [
    "### Histograma das imagens"
   ]
  },
  {
   "cell_type": "code",
   "execution_count": 6,
   "metadata": {},
   "outputs": [],
   "source": [
    "def histograma(img):\n",
    "    W = np.zeros(256)\n",
    "    qntLinhas, qntColunas = img.shape\n",
    "    \n",
    "    # Cria histograma dos valores dos pixels\n",
    "    for i in range(qntLinhas):\n",
    "        for j in range(qntColunas):\n",
    "            W[img[i,j]] = W[img[i,j]] + 1\n",
    "    \n",
    "    # Normaliza os valores do histograma\n",
    "    for i in range(256):\n",
    "        W[i] = W[i]/(qntLinhas*qntColunas)\n",
    "    \n",
    "    return W\n",
    "\n",
    "# Calcula a distância euclidiana\n",
    "def distancia(a, b):\n",
    "    M = len(a)\n",
    "    soma = 0\n",
    "    for i in range(M):\n",
    "        soma = soma + ((a[i]-b[i])**2)\n",
    "        \n",
    "    return np.sqrt(soma)"
   ]
  },
  {
   "cell_type": "code",
   "execution_count": 12,
   "metadata": {},
   "outputs": [
    {
     "name": "stdout",
     "output_type": "stream",
     "text": [
      "[(0.0, 'Beach1.jpg'), (0.0030090050032925445, 'Beach1_inv.jpg'), (0.04350947431527589, 'Buses9_inv.jpg'), (0.04366866737464551, 'Buses9.jpg'), (0.04703559342510926, 'Buses10.jpg'), (0.047065080146992386, 'Buses10_inv.jpg'), (0.04764425477644803, 'Mountains52.jpg'), (0.04767783410990647, 'Mountains52_inv.jpg'), (0.049941463113207976, 'Buildings1_inv.jpg'), (0.05022520296004532, 'Buses3_inv.jpg'), (0.05081242435859477, 'Buildings1.jpg'), (0.05190851555856755, 'Buses3.jpg'), (0.05550960579335545, 'Beach3.jpg'), (0.05552117746018672, 'Beach3_inv.jpg'), (0.057795774056493616, 'Buildings3_inv.jpg'), (0.05787355425253072, 'Buildings3.jpg'), (0.05969268445105817, 'Flowers2.jpg'), (0.05999083862408847, 'Flowers2_inv.jpg'), (0.06380827542833319, 'Horses15.jpg'), (0.0638220781667916, 'Horses15_inv.jpg'), (0.06579511992324814, 'Horses14.jpg'), (0.06579823864306057, 'Horses14_inv.jpg'), (0.06948984106061126, 'Buildings2_inv.jpg'), (0.06987269037361465, 'Buildings2.jpg'), (0.0738539164040777, 'Beach2_inv.jpg'), (0.07391059072157005, 'Beach2.jpg'), (0.07645773975755163, 'Mountains53.jpg'), (0.0764582012761783, 'Mountains53_inv.jpg'), (0.08214874028083403, 'Horses16_inv.jpg'), (0.08216410303670499, 'Horses16.jpg'), (0.09269593442556509, 'Flowers1_inv.jpg'), (0.0927149716690161, 'Flowers1.jpg'), (0.13664281643767232, 'Mountains54_inv.jpg'), (0.13667461197473163, 'Mountains54.jpg'), (0.1661713978851662, 'Flowers4_inv.jpg'), (0.16646501329897645, 'Flowers4.jpg')]\n"
     ]
    }
   ],
   "source": [
    "# Imagem de consulta\n",
    "img = cv2.imread('Beach1.jpg', 0)\n",
    "hist_consulta = histograma(img)\n",
    "d = []\n",
    "\n",
    "# Define o histograma de cada imagem\n",
    "for i in files_path:\n",
    "    diretorio, arquivo = path, filename = os.path.split(i)\n",
    "    imagem = cv2.imread(arquivo, 0)\n",
    "    \n",
    "    hist = histograma(imagem)\n",
    "    d.append((distancia(hist_consulta, hist), arquivo))\n",
    "    \n",
    "print(sorted(d))"
   ]
  },
  {
   "cell_type": "markdown",
   "metadata": {},
   "source": [
    "## Extração de características"
   ]
  },
  {
   "cell_type": "code",
   "execution_count": 4,
   "metadata": {},
   "outputs": [
    {
     "ename": "AttributeError",
     "evalue": "'NoneType' object has no attribute 'shape'",
     "output_type": "error",
     "traceback": [
      "\u001b[0;31m---------------------------------------------------------------------------\u001b[0m",
      "\u001b[0;31mAttributeError\u001b[0m                            Traceback (most recent call last)",
      "\u001b[0;32m<ipython-input-4-3a85a7a5215b>\u001b[0m in \u001b[0;36m<module>\u001b[0;34m\u001b[0m\n\u001b[1;32m      5\u001b[0m \u001b[0mimagemOriginal\u001b[0m \u001b[0;34m=\u001b[0m \u001b[0mcv2\u001b[0m\u001b[0;34m.\u001b[0m\u001b[0mimread\u001b[0m\u001b[0;34m(\u001b[0m\u001b[0;34m'lena.png'\u001b[0m\u001b[0;34m,\u001b[0m \u001b[0;36m0\u001b[0m\u001b[0;34m)\u001b[0m\u001b[0;34m\u001b[0m\u001b[0m\n\u001b[1;32m      6\u001b[0m \u001b[0;34m\u001b[0m\u001b[0m\n\u001b[0;32m----> 7\u001b[0;31m \u001b[0mqtdeLinhas\u001b[0m\u001b[0;34m,\u001b[0m \u001b[0mqtdeColunas\u001b[0m \u001b[0;34m=\u001b[0m \u001b[0mimagemOriginal\u001b[0m\u001b[0;34m.\u001b[0m\u001b[0mshape\u001b[0m\u001b[0;34m\u001b[0m\u001b[0m\n\u001b[0m\u001b[1;32m      8\u001b[0m \u001b[0;34m\u001b[0m\u001b[0m\n\u001b[1;32m      9\u001b[0m \u001b[0mimagemModificada\u001b[0m \u001b[0;34m=\u001b[0m \u001b[0mnp\u001b[0m\u001b[0;34m.\u001b[0m\u001b[0mzeros\u001b[0m\u001b[0;34m(\u001b[0m\u001b[0;34m(\u001b[0m\u001b[0mqtdeColunas\u001b[0m\u001b[0;34m,\u001b[0m \u001b[0mqtdeLinhas\u001b[0m\u001b[0;34m)\u001b[0m\u001b[0;34m)\u001b[0m\u001b[0;34m\u001b[0m\u001b[0m\n",
      "\u001b[0;31mAttributeError\u001b[0m: 'NoneType' object has no attribute 'shape'"
     ]
    }
   ],
   "source": [
    "import cv2\n",
    "import numpy as np\n",
    "import matplotlib.pyplot as plt\n",
    "\n",
    "imagemOriginal = cv2.imread('lena.png', 0)\n",
    "\n",
    "qtdeLinhas, qtdeColunas = imagemOriginal.shape\n",
    "\n",
    "imagemModificada = np.zeros((qtdeColunas, qtdeLinhas))\n",
    "\n",
    "for i in range(qtdeLinhas):\n",
    "    for j in range(qtdeColunas):\n",
    "        imagemModificada[j,i] = imagemOriginal[i,j]\n",
    "                \n",
    "\n",
    "plt.gray()               \n",
    "plt.imshow(imagemOriginal)\n",
    "plt.show()          \n",
    "plt.imshow(imagemModificada)"
   ]
  }
 ],
 "metadata": {
  "kernelspec": {
   "display_name": "Python 3",
   "language": "python",
   "name": "python3"
  },
  "language_info": {
   "codemirror_mode": {
    "name": "ipython",
    "version": 3
   },
   "file_extension": ".py",
   "mimetype": "text/x-python",
   "name": "python",
   "nbconvert_exporter": "python",
   "pygments_lexer": "ipython3",
   "version": "3.7.0"
  }
 },
 "nbformat": 4,
 "nbformat_minor": 2
}
